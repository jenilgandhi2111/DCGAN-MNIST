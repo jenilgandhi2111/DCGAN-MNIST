{
  "nbformat": 4,
  "nbformat_minor": 0,
  "metadata": {
    "colab": {
      "name": "GAN_implementation.ipynb",
      "provenance": []
    },
    "kernelspec": {
      "name": "python3",
      "display_name": "Python 3"
    },
    "language_info": {
      "name": "python"
    },
    "accelerator": "GPU"
  },
  "cells": [
    {
      "cell_type": "code",
      "metadata": {
        "id": "uxR6RW3Xma9e"
      },
      "source": [
        "import tensorflow as tf\n",
        "from tensorflow import keras \n",
        "from keras.layers import Dense,Conv2D,Conv2DTranspose,MaxPool2D,LeakyReLU,BatchNormalization,Reshape,Flatten,Dropout\n",
        "import matplotlib.pyplot as plt\n",
        "from keras.models import Sequential\n",
        "from keras.datasets import mnist\n",
        "import time\n",
        "from keras.losses import BinaryCrossentropy"
      ],
      "execution_count": null,
      "outputs": []
    },
    {
      "cell_type": "code",
      "metadata": {
        "id": "Jw9cwMa2ig_m"
      },
      "source": [
        "(train_images,train_labels),(test_images,test_labels)=mnist.load_data()\n"
      ],
      "execution_count": null,
      "outputs": []
    },
    {
      "cell_type": "code",
      "metadata": {
        "colab": {
          "base_uri": "https://localhost:8080/",
          "height": 282
        },
        "id": "FEt1_2g6i7-r",
        "outputId": "b4fcd576-2770-433a-a93a-4b5d009fb2f8"
      },
      "source": [
        "plt.imshow(train_images[0])"
      ],
      "execution_count": null,
      "outputs": [
        {
          "output_type": "execute_result",
          "data": {
            "text/plain": [
              "<matplotlib.image.AxesImage at 0x7fdf6f9e08d0>"
            ]
          },
          "metadata": {
            "tags": []
          },
          "execution_count": 3
        },
        {
          "output_type": "display_data",
          "data": {
            "image/png": "[encoded data removed]",
            "text/plain": [
              "<Figure size 432x288 with 1 Axes>"
            ]
          },
          "metadata": {
            "tags": [],
            "needs_background": "light"
          }
        }
      ]
    },
    {
      "cell_type": "code",
      "metadata": {
        "id": "BwVg-_Szmfwc"
      },
      "source": [
        "train_images=train_images.reshape(60000,28,28,1).astype(\"float32\")\n",
        "#Normalizing the images between[-1,1]\n",
        "train_images=(train_images-127.5)/127.5\n"
      ],
      "execution_count": null,
      "outputs": []
    },
    {
      "cell_type": "code",
      "metadata": {
        "colab": {
          "base_uri": "https://localhost:8080/"
        },
        "id": "j-tcpHIIjbSN",
        "outputId": "2d6dc529-5b37-4dab-b4e9-446edfe4cf6d"
      },
      "source": [
        "train_images.shape"
      ],
      "execution_count": null,
      "outputs": [
        {
          "output_type": "execute_result",
          "data": {
            "text/plain": [
              "(60000, 28, 28, 1)"
            ]
          },
          "metadata": {
            "tags": []
          },
          "execution_count": 5
        }
      ]
    },
    {
      "cell_type": "code",
      "metadata": {
        "id": "Aimp17w4jdkB"
      },
      "source": [
        "train_dataset = tf.data.Dataset.from_tensor_slices(train_images).shuffle(60000).batch(256)\n"
      ],
      "execution_count": null,
      "outputs": []
    },
    {
      "cell_type": "code",
      "metadata": {
        "colab": {
          "base_uri": "https://localhost:8080/"
        },
        "id": "2XJ4R3icjmP3",
        "outputId": "4226e759-4ca0-4290-c91f-e9936e958b6f"
      },
      "source": [
        "train_dataset"
      ],
      "execution_count": null,
      "outputs": [
        {
          "output_type": "execute_result",
          "data": {
            "text/plain": [
              "<BatchDataset shapes: (None, 28, 28, 1), types: tf.float32>"
            ]
          },
          "metadata": {
            "tags": []
          },
          "execution_count": 7
        }
      ]
    },
    {
      "cell_type": "code",
      "metadata": {
        "id": "hBBmdeODjoC3"
      },
      "source": [
        "def make_generator():\n",
        "  Generator=Sequential(name=\"Generator\")\n",
        "  \n",
        "  #Layer 1 for generator\n",
        "  Generator.add(Dense(7*7*256,use_bias=False,input_shape=(100,)))\n",
        "  Generator.add(BatchNormalization(momentum=0.9))\n",
        "  Generator.add(LeakyReLU())\n",
        "\n",
        "  #layer 2 for generator\n",
        "  Generator.add(Reshape((7,7,256)))\n",
        "  Generator.add(Conv2DTranspose(128,kernel_size=(5,5),strides=(1,1),padding=\"same\",use_bias=False))\n",
        "  Generator.add(BatchNormalization())\n",
        "  Generator.add(LeakyReLU())\n",
        "\n",
        "  #Layer 3 for generator\n",
        "  Generator.add(Conv2DTranspose(128,kernel_size=(5,5),strides=(2,2),padding=\"same\",use_bias=False))\n",
        "  Generator.add(BatchNormalization())\n",
        "  Generator.add(LeakyReLU())\n",
        "\n",
        "  #Output layer\n",
        "  Generator.add(Conv2DTranspose(1,kernel_size=(5,5),strides=(2,2),padding=\"same\",use_bias=False,activation=\"tanh\"))\n",
        "\n",
        "  return Generator"
      ],
      "execution_count": null,
      "outputs": []
    },
    {
      "cell_type": "code",
      "metadata": {
        "id": "gs4nhprllvQl"
      },
      "source": [
        "def make_Discriminator():\n",
        "  Discriminator=Sequential()\n",
        "\n",
        "  #Layer1 for Discriminator\n",
        "  Discriminator.add(Conv2D(64,(5,5),strides=(2,2),input_shape=(28,28,1)))\n",
        "  Discriminator.add(LeakyReLU())\n",
        "  Discriminator.add(Dropout(0.3))\n",
        "\n",
        "  #Layer2 for Discriminator\n",
        "  Discriminator.add(Conv2D(128, (5, 5), strides=(2, 2), padding='same'))\n",
        "  Discriminator.add(LeakyReLU())\n",
        "  Discriminator.add(Dropout(0.3))\n",
        "\n",
        "  #Layer3 for Discriminator\n",
        "  Discriminator.add(Flatten())\n",
        "  Discriminator.add(Dense(1))\n",
        "\n",
        "  return Discriminator"
      ],
      "execution_count": null,
      "outputs": []
    },
    {
      "cell_type": "code",
      "metadata": {
        "id": "e-ncjLOcmsd8"
      },
      "source": [
        "loss=BinaryCrossentropy(from_logits=True)"
      ],
      "execution_count": null,
      "outputs": []
    },
    {
      "cell_type": "code",
      "metadata": {
        "id": "yAIwTI1InVKp"
      },
      "source": [
        "def Discriminator_loss(real_op,fake_op):\n",
        "  real_loss = loss(tf.ones_like(real_op),real_op)\n",
        "  fake_loss = loss(tf.zeros_like(fake_op),fake_op)\n",
        "  total_loss = fake_loss + real_loss\n",
        "  return total_loss\n",
        "\n",
        "def generator_loss(fake_op):\n",
        "  fake_loss = loss(tf.ones_like(fake_op),fake_op)\n",
        "  return fake_loss"
      ],
      "execution_count": null,
      "outputs": []
    },
    {
      "cell_type": "code",
      "metadata": {
        "id": "1fnJQsU9oN2X"
      },
      "source": [
        "generator_optimizer=tf.keras.optimizers.Adam(3e-4)\n",
        "discriminator_optimizer=tf.keras.optimizers.Adam(3e-4)"
      ],
      "execution_count": null,
      "outputs": []
    },
    {
      "cell_type": "code",
      "metadata": {
        "id": "XTHhmst1oo-V"
      },
      "source": [
        "generator=make_generator()\n",
        "discriminator=make_Discriminator()"
      ],
      "execution_count": null,
      "outputs": []
    },
    {
      "cell_type": "code",
      "metadata": {
        "colab": {
          "base_uri": "https://localhost:8080/"
        },
        "id": "5_AnwTGTpbY-",
        "outputId": "a41769a5-693c-40d2-bd19-5836f58cdc28"
      },
      "source": [
        "generator.summary()"
      ],
      "execution_count": null,
      "outputs": [
        {
          "output_type": "stream",
          "text": [
            "Model: \"Generator\"\n",
            "_________________________________________________________________\n",
            "Layer (type)                 Output Shape              Param #   \n",
            "=================================================================\n",
            "dense (Dense)                (None, 12544)             1254400   \n",
            "_________________________________________________________________\n",
            "batch_normalization (BatchNo (None, 12544)             50176     \n",
            "_________________________________________________________________\n",
            "leaky_re_lu (LeakyReLU)      (None, 12544)             0         \n",
            "_________________________________________________________________\n",
            "reshape (Reshape)            (None, 7, 7, 256)         0         \n",
            "_________________________________________________________________\n",
            "conv2d_transpose (Conv2DTran (None, 7, 7, 128)         819200    \n",
            "_________________________________________________________________\n",
            "batch_normalization_1 (Batch (None, 7, 7, 128)         512       \n",
            "_________________________________________________________________\n",
            "leaky_re_lu_1 (LeakyReLU)    (None, 7, 7, 128)         0         \n",
            "_________________________________________________________________\n",
            "conv2d_transpose_1 (Conv2DTr (None, 14, 14, 128)       409600    \n",
            "_________________________________________________________________\n",
            "batch_normalization_2 (Batch (None, 14, 14, 128)       512       \n",
            "_________________________________________________________________\n",
            "leaky_re_lu_2 (LeakyReLU)    (None, 14, 14, 128)       0         \n",
            "_________________________________________________________________\n",
            "conv2d_transpose_2 (Conv2DTr (None, 28, 28, 1)         3200      \n",
            "=================================================================\n",
            "Total params: 2,537,600\n",
            "Trainable params: 2,512,000\n",
            "Non-trainable params: 25,600\n",
            "_________________________________________________________________\n"
          ],
          "name": "stdout"
        }
      ]
    },
    {
      "cell_type": "code",
      "metadata": {
        "colab": {
          "base_uri": "https://localhost:8080/"
        },
        "id": "Z17aF56Mpd2k",
        "outputId": "bad589a2-3fb8-47ac-87fa-d8093708c5f4"
      },
      "source": [
        "discriminator.summary()"
      ],
      "execution_count": null,
      "outputs": [
        {
          "output_type": "stream",
          "text": [
            "Model: \"sequential\"\n",
            "_________________________________________________________________\n",
            "Layer (type)                 Output Shape              Param #   \n",
            "=================================================================\n",
            "conv2d (Conv2D)              (None, 12, 12, 64)        1664      \n",
            "_________________________________________________________________\n",
            "leaky_re_lu_3 (LeakyReLU)    (None, 12, 12, 64)        0         \n",
            "_________________________________________________________________\n",
            "dropout (Dropout)            (None, 12, 12, 64)        0         \n",
            "_________________________________________________________________\n",
            "conv2d_1 (Conv2D)            (None, 6, 6, 128)         204928    \n",
            "_________________________________________________________________\n",
            "leaky_re_lu_4 (LeakyReLU)    (None, 6, 6, 128)         0         \n",
            "_________________________________________________________________\n",
            "dropout_1 (Dropout)          (None, 6, 6, 128)         0         \n",
            "_________________________________________________________________\n",
            "flatten (Flatten)            (None, 4608)              0         \n",
            "_________________________________________________________________\n",
            "dense_1 (Dense)              (None, 1)                 4609      \n",
            "=================================================================\n",
            "Total params: 211,201\n",
            "Trainable params: 211,201\n",
            "Non-trainable params: 0\n",
            "_________________________________________________________________\n"
          ],
          "name": "stdout"
        }
      ]
    },
    {
      "cell_type": "code",
      "metadata": {
        "id": "EI9Z4nspqUi6"
      },
      "source": [
        "NOISE_DIM=100\n",
        "N_SAMPLES=16\n",
        "seed = tf.random.normal([N_SAMPLES, NOISE_DIM])\n"
      ],
      "execution_count": null,
      "outputs": []
    },
    {
      "cell_type": "code",
      "metadata": {
        "id": "mQotlYsfqzb8"
      },
      "source": [
        "from PIL import Image as im\n",
        "def train_step(image,plot_image=True,index=-1):\n",
        "  noise = tf.random.normal([256, NOISE_DIM])\n",
        "\n",
        "  with tf.GradientTape() as generator_tape,tf.GradientTape() as disc_tape:\n",
        "    generated_images=generator(noise,training=True)\n",
        "\n",
        "    real_op=discriminator(image,training=True)\n",
        "    fake_op=discriminator(generated_images,training=True)\n",
        "\n",
        "    gen_loss=generator_loss(fake_op)\n",
        "    disc_loss=Discriminator_loss(real_op,fake_op)\n",
        "\n",
        "    # plt.imshow(generated_images[0].numpy().reshape(28,28))\n",
        "    if plot_image==True:\n",
        "      # data=im.fromarray(generated_images[0].numpy().reshape(28,28))\n",
        "      # data.save(str(index)+\".png\")\n",
        "      print(\"Here\")\n",
        "      plt.imshow(generated_images[0].numpy().reshape(28,28))\n",
        "  gradient_of_gen=generator_tape.gradient(gen_loss,generator.trainable_variables)\n",
        "  gradient_of_disc=disc_tape.gradient(disc_loss,discriminator.trainable_variables)\n",
        "\n",
        "  discriminator_optimizer.apply_gradients(zip(gradient_of_disc,discriminator.trainable_variables))\n",
        "  generator_optimizer.apply_gradients(zip(gradient_of_gen,generator.trainable_variables))"
      ],
      "execution_count": null,
      "outputs": []
    },
    {
      "cell_type": "code",
      "metadata": {
        "id": "Df_DmC0ls_Gp"
      },
      "source": [
        "def train_GAN(dataset, epochs):\n",
        "  j=0\n",
        "  for epoch in range(epochs):\n",
        "    print(epoch)\n",
        "    start = time.time()\n",
        "    print(start)\n",
        "    i=0\n",
        "    \n",
        "    for image_batch in dataset:\n",
        "      plot_or_not=False\n",
        "      i=i+1\n",
        "      if i%100 == 0:\n",
        "        j=j+1\n",
        "        plot_or_not=True\n",
        "        train_step(image_batch,plot_or_not,j)\n",
        "      else:\n",
        "        train_step(image_batch,plot_or_not)\n",
        "      # print(f\"\\t{i}\")\n",
        "      \n",
        "    print ('Time for epoch {} is {} sec'.format(epoch + 1, time.time()-start))"
      ],
      "execution_count": null,
      "outputs": []
    },
    {
      "cell_type": "code",
      "metadata": {
        "colab": {
          "base_uri": "https://localhost:8080/",
          "height": 687
        },
        "id": "BWA0UoBApVTT",
        "outputId": "7684c500-bf78-435d-f116-b842fad644e7"
      },
      "source": [
        "train_GAN(train_dataset, 5)\n"
      ],
      "execution_count": null,
      "outputs": [
        {
          "output_type": "stream",
          "text": [
            "0\n",
            "1621271912.838743\n",
            "Here\n",
            "Here\n",
            "Time for epoch 1 is 26.671130895614624 sec\n",
            "1\n",
            "1621271939.5100317\n",
            "Here\n",
            "Here\n",
            "Time for epoch 2 is 24.780323266983032 sec\n",
            "2\n",
            "1621271964.2908964\n",
            "Here\n",
            "Here\n",
            "Time for epoch 3 is 24.697177171707153 sec\n",
            "3\n",
            "1621271988.9882162\n",
            "Here\n",
            "Here\n",
            "Time for epoch 4 is 24.354066371917725 sec\n",
            "4\n",
            "1621272013.3429837\n",
            "Here\n",
            "Here\n",
            "Time for epoch 5 is 24.441967010498047 sec\n"
          ],
          "name": "stdout"
        },
        {
          "output_type": "display_data",
          "data": {
            "image/png": "[encoded data removed]",
            "text/plain": [
              "<Figure size 432x288 with 1 Axes>"
            ]
          },
          "metadata": {
            "tags": [],
            "needs_background": "light"
          }
        }
      ]
    },
    {
      "cell_type": "code",
      "metadata": {
        "id": "8XzawyIPxtGo"
      },
      "source": [
        "noise = tf.random.normal([256, NOISE_DIM])\n",
        "gen_image=generator(noise,training=False)"
      ],
      "execution_count": null,
      "outputs": []
    },
    {
      "cell_type": "code",
      "metadata": {
        "colab": {
          "base_uri": "https://localhost:8080/",
          "height": 1000
        },
        "id": "5bZ1iXgt1b-P",
        "outputId": "034b38db-67b1-4572-c6f9-3e4a28de34eb"
      },
      "source": [
        "for i in range(20):\n",
        "  plt.imshow(gen_image[i].numpy().reshape(28,28))\n",
        "  plt.show()\n",
        "  time.sleep(5)"
      ],
      "execution_count": null,
      "outputs": [
        {
          "output_type": "display_data",
          "data": {
            "image/png": "[encoded data removed]",
            "text/plain": [
              "<Figure size 432x288 with 1 Axes>"
            ]
          },
          "metadata": {
            "tags": [],
            "needs_background": "light"
          }
        },
        {
          "output_type": "display_data",
          "data": {
            "image/png": "[encoded data removed]",
            "text/plain": [
              "<Figure size 432x288 with 1 Axes>"
            ]
          },
          "metadata": {
            "tags": [],
            "needs_background": "light"
          }
        },
        {
          "output_type": "display_data",
          "data": {
            "image/png": "[encoded data removed]",
            "text/plain": [
              "<Figure size 432x288 with 1 Axes>"
            ]
          },
          "metadata": {
            "tags": [],
            "needs_background": "light"
          }
        },
        {
          "output_type": "display_data",
          "data": {
            "image/png": "[encoded data removed]",
            "text/plain": [
              "<Figure size 432x288 with 1 Axes>"
            ]
          },
          "metadata": {
            "tags": [],
            "needs_background": "light"
          }
        },
        {
          "output_type": "display_data",
          "data": {
            "image/png": "[encoded data removed]",
            "text/plain": [
              "<Figure size 432x288 with 1 Axes>"
            ]
          },
          "metadata": {
            "tags": [],
            "needs_background": "light"
          }
        },
        {
          "output_type": "display_data",
          "data": {
            "image/png": "[encoded data removed]",
            "text/plain": [
              "<Figure size 432x288 with 1 Axes>"
            ]
          },
          "metadata": {
            "tags": [],
            "needs_background": "light"
          }
        },
        {
          "output_type": "display_data",
          "data": {
            "image/png": "[encoded data removed]",
            "text/plain": [
              "<Figure size 432x288 with 1 Axes>"
            ]
          },
          "metadata": {
            "tags": [],
            "needs_background": "light"
          }
        },
        {
          "output_type": "display_data",
          "data": {
            "image/png": "[encoded data removed]",
            "text/plain": [
              "<Figure size 432x288 with 1 Axes>"
            ]
          },
          "metadata": {
            "tags": [],
            "needs_background": "light"
          }
        },
        {
          "output_type": "display_data",
          "data": {
            "image/png": "[encoded data removed]",
            "text/plain": [
              "<Figure size 432x288 with 1 Axes>"
            ]
          },
          "metadata": {
            "tags": [],
            "needs_background": "light"
          }
        },
        {
          "output_type": "display_data",
          "data": {
            "image/png": "[encoded data removed]",
            "text/plain": [
              "<Figure size 432x288 with 1 Axes>"
            ]
          },
          "metadata": {
            "tags": [],
            "needs_background": "light"
          }
        },
        {
          "output_type": "display_data",
          "data": {
            "image/png": "[encoded data removed]",
            "text/plain": [
              "<Figure size 432x288 with 1 Axes>"
            ]
          },
          "metadata": {
            "tags": [],
            "needs_background": "light"
          }
        },
        {
          "output_type": "display_data",
          "data": {
            "image/png": "[encoded data removed]",
            "text/plain": [
              "<Figure size 432x288 with 1 Axes>"
            ]
          },
          "metadata": {
            "tags": [],
            "needs_background": "light"
          }
        },
        {
          "output_type": "display_data",
          "data": {
            "image/png": "[encoded data removed]",
            "text/plain": [
              "<Figure size 432x288 with 1 Axes>"
            ]
          },
          "metadata": {
            "tags": [],
            "needs_background": "light"
          }
        },
        {
          "output_type": "display_data",
          "data": {
            "image/png": "[encoded data removed]",
            "text/plain": [
              "<Figure size 432x288 with 1 Axes>"
            ]
          },
          "metadata": {
            "tags": [],
            "needs_background": "light"
          }
        },
        {
          "output_type": "display_data",
          "data": {
            "image/png": "[encoded data removed]",
            "text/plain": [
              "<Figure size 432x288 with 1 Axes>"
            ]
          },
          "metadata": {
            "tags": [],
            "needs_background": "light"
          }
        },
        {
          "output_type": "display_data",
          "data": {
            "image/png": "[encoded data removed]",
            "text/plain": [
              "<Figure size 432x288 with 1 Axes>"
            ]
          },
          "metadata": {
            "tags": [],
            "needs_background": "light"
          }
        },
        {
          "output_type": "display_data",
          "data": {
            "image/png": "[encoded data removed]",
            "text/plain": [
              "<Figure size 432x288 with 1 Axes>"
            ]
          },
          "metadata": {
            "tags": [],
            "needs_background": "light"
          }
        },
        {
          "output_type": "display_data",
          "data": {
            "image/png": "[encoded data removed]",
            "text/plain": [
              "<Figure size 432x288 with 1 Axes>"
            ]
          },
          "metadata": {
            "tags": [],
            "needs_background": "light"
          }
        },
        {
          "output_type": "display_data",
          "data": {
            "image/png": "[encoded data removed]",
            "text/plain": [
              "<Figure size 432x288 with 1 Axes>"
            ]
          },
          "metadata": {
            "tags": [],
            "needs_background": "light"
          }
        },
        {
          "output_type": "display_data",
          "data": {
            "image/png": "[encoded data removed]",
            "text/plain": [
              "<Figure size 432x288 with 1 Axes>"
            ]
          },
          "metadata": {
            "tags": [],
            "needs_background": "light"
          }
        }
      ]
    },
    {
      "cell_type": "code",
      "metadata": {
        "id": "IXIIt8Ll97p1"
      },
      "source": [
        ""
      ],
      "execution_count": null,
      "outputs": []
    },
    {
      "cell_type": "code",
      "metadata": {
        "id": "uC_NhC978q3W"
      },
      "source": [
        ""
      ],
      "execution_count": null,
      "outputs": []
    },
    {
      "cell_type": "code",
      "metadata": {
        "id": "vzn0cae68pOQ"
      },
      "source": [
        ""
      ],
      "execution_count": null,
      "outputs": []
    },
    {
      "cell_type": "code",
      "metadata": {
        "id": "LGO7DhZ78kdP"
      },
      "source": [
        ""
      ],
      "execution_count": null,
      "outputs": []
    },
    {
      "cell_type": "code",
      "metadata": {
        "id": "fYCw1SuY8igM"
      },
      "source": [
        ""
      ],
      "execution_count": null,
      "outputs": []
    },
    {
      "cell_type": "code",
      "metadata": {
        "id": "1BVa5Kx-8gqz"
      },
      "source": [
        ""
      ],
      "execution_count": null,
      "outputs": []
    },
    {
      "cell_type": "code",
      "metadata": {
        "id": "gQB-St-N8eTd"
      },
      "source": [
        ""
      ],
      "execution_count": null,
      "outputs": []
    },
    {
      "cell_type": "code",
      "metadata": {
        "id": "tK_2Parl181x"
      },
      "source": [
        ""
      ],
      "execution_count": null,
      "outputs": []
    },
    {
      "cell_type": "code",
      "metadata": {
        "id": "QWrCLKKC13_9"
      },
      "source": [
        ""
      ],
      "execution_count": null,
      "outputs": []
    },
    {
      "cell_type": "code",
      "metadata": {
        "id": "ACk4vbdu1w2R"
      },
      "source": [
        ""
      ],
      "execution_count": null,
      "outputs": []
    },
    {
      "cell_type": "code",
      "metadata": {
        "id": "uu4N0NaxpOaC"
      },
      "source": [
        ""
      ],
      "execution_count": null,
      "outputs": []
    },
    {
      "cell_type": "code",
      "metadata": {
        "id": "Pf2TivKSpKto"
      },
      "source": [
        ""
      ],
      "execution_count": null,
      "outputs": []
    },
    {
      "cell_type": "code",
      "metadata": {
        "id": "ZmfNUrD5pBQY"
      },
      "source": [
        ""
      ],
      "execution_count": null,
      "outputs": []
    }
  ]
}